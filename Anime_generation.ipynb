{
  "nbformat": 4,
  "nbformat_minor": 0,
  "metadata": {
    "colab": {
      "name": "Anime generation.ipynb",
      "provenance": [],
      "collapsed_sections": [],
      "machine_shape": "hm",
      "mount_file_id": "1YICWfl6RQFrtOliPuSgO9CJT94nc3An8",
      "authorship_tag": "ABX9TyOxY3vHXcw4xdV3zlavmwvo",
      "include_colab_link": true
    },
    "kernelspec": {
      "name": "python3",
      "display_name": "Python 3"
    },
    "accelerator": "GPU"
  },
  "cells": [
    {
      "cell_type": "markdown",
      "metadata": {
        "id": "view-in-github",
        "colab_type": "text"
      },
      "source": [
        "<a href=\"https://colab.research.google.com/github/Valeron01/Anime-GAN/blob/master/Anime_generation.ipynb\" target=\"_parent\"><img src=\"https://colab.research.google.com/assets/colab-badge.svg\" alt=\"Open In Colab\"/></a>"
      ]
    },
    {
      "cell_type": "code",
      "metadata": {
        "id": "fiYeEyXqZ6DL",
        "colab_type": "code",
        "colab": {}
      },
      "source": [
        "%tensorflow_version 2.x\n",
        "\n",
        "import tensorflow as tf\n",
        "\n",
        "import sys\n",
        "sys.path.append('/content/drive/My Drive')\n",
        "\n",
        "import nn_utils as ut\n",
        "import numpy as np\n",
        "import cv2\n",
        "from tensorflow.keras.layers import Conv2D, MaxPooling2D, UpSampling2D, Add, Input, Activation, BatchNormalization, Conv2DTranspose, Dense, BatchNormalization, Reshape, Flatten, LeakyReLU, Dropout, ReLU\n",
        "from tensorflow.keras.models import Model, Sequential\n",
        "from tensorflow.keras.optimizers import Adam\n",
        "from google.colab.patches import cv2_imshow\n",
        "import time"
      ],
      "execution_count": 1,
      "outputs": []
    },
    {
      "cell_type": "code",
      "metadata": {
        "id": "zV26W3_MUZHP",
        "colab_type": "code",
        "colab": {}
      },
      "source": [
        "!cp \"/content/drive/My Drive/animefacedataset.zip\" /content"
      ],
      "execution_count": 2,
      "outputs": []
    },
    {
      "cell_type": "code",
      "metadata": {
        "id": "A8bRATw50GLX",
        "colab_type": "code",
        "colab": {
          "base_uri": "https://localhost:8080/",
          "height": 1000
        },
        "outputId": "068649e3-7fd1-4b77-881d-db546b8a4595"
      },
      "source": [
        "!unzip animefacedataset.zip"
      ],
      "execution_count": 3,
      "outputs": [
        {
          "output_type": "stream",
          "text": [
          ],
          "name": "stdout"
        }
      ]
    },
    {
      "cell_type": "code",
      "metadata": {
        "id": "sym72iyd2q9W",
        "colab_type": "code",
        "colab": {
          "base_uri": "https://localhost:8080/",
          "height": 51
        },
        "outputId": "175540a0-7f7c-47ae-daf9-45590776d6f6"
      },
      "source": [
        "images = ut.loadAllImages('images', w = -1, h = -1)\n",
        "\n",
        "good_images = []\n",
        "for i, v in enumerate(images):\n",
        "  if v.shape[0] >= 64:\n",
        "    good_images.append(cv2.resize(v, (64, 64)))\n",
        "    \n",
        "images = np.float32(good_images)\n",
        "images = (images - 127.5) / 127.5"
      ],
      "execution_count": 25,
      "outputs": [
        {
          "output_type": "stream",
          "text": [
            "0\n",
            "(63565,)\n"
          ],
          "name": "stdout"
        }
      ]
    },
    {
      "cell_type": "code",
      "metadata": {
        "id": "hFNSsXfZdjFU",
        "colab_type": "code",
        "colab": {}
      },
      "source": [
        "images = ut.loadAllImages('images', w = 96, h = 96)\n",
        "images = np.float32(images)\n",
        "images = (images - 127.5) / 127.5"
      ],
      "execution_count": null,
      "outputs": []
    },
    {
      "cell_type": "code",
      "metadata": {
        "id": "ju0TuKvX_Jh9",
        "colab_type": "code",
        "colab": {}
      },
      "source": [
        "def get_random_samples(batch_size=16):\n",
        "  return images[np.random.randint(0, len(images), batch_size)]"
      ],
      "execution_count": 27,
      "outputs": []
    },
    {
      "cell_type": "code",
      "metadata": {
        "id": "H11fqCHq3Dd1",
        "colab_type": "code",
        "colab": {
          "base_uri": "https://localhost:8080/",
          "height": 81
        },
        "outputId": "03e01d1c-3901-4b08-c41e-0d7b025f95fb"
      },
      "source": [
        "cv2_imshow(get_random_samples()[0] * 127.5 + 127.5)"
      ],
      "execution_count": 30,
      "outputs": [
        {
          "output_type": "display_data",
          "data": {
            "image/png": "[encoded data removed]",
            "text/plain": [
              "<PIL.Image.Image image mode=RGB size=64x64 at 0x7F9597CF69B0>"
            ]
          },
          "metadata": {
            "tags": []
          }
        }
      ]
    },
    {
      "cell_type": "code",
      "metadata": {
        "id": "VOmKQEIg6Vsy",
        "colab_type": "code",
        "colab": {}
      },
      "source": [
        "def get_residual_block(units, prev):\n",
        "  ret = Conv2DTranspose(units, (3, 3), padding='same')(prev)\n",
        "  #ret = BatchNormalization()(ret)\n",
        "  a = ReLU()(ret)\n",
        "  c = Conv2DTranspose(units, (3, 3), padding='same')(a)\n",
        "  #c = BatchNormalization()(c)\n",
        "  ret = Add()([prev, c])\n",
        "  return ret"
      ],
      "execution_count": 31,
      "outputs": []
    },
    {
      "cell_type": "code",
      "metadata": {
        "id": "lM7QOR-QNncj",
        "colab_type": "code",
        "colab": {}
      },
      "source": [
        "def get_upsamling_block(units, prev):\n",
        "  c = Conv2DTranspose(units, 3, padding='same', strides=2)(prev)\n",
        "  #c = BatchNormalization()(c)\n",
        "  r = ReLU()(c)\n",
        "  return r"
      ],
      "execution_count": 32,
      "outputs": []
    },
    {
      "cell_type": "code",
      "metadata": {
        "id": "nK67KE5j5PWC",
        "colab_type": "code",
        "colab": {}
      },
      "source": [
        "def build_generator():\n",
        "  in_l = Input(shape=(100,))\n",
        "\n",
        "  d = Dense(64 * 16 * 16)(in_l)\n",
        "  d = ReLU()(d)\n",
        "\n",
        "  d = Reshape((16, 16, 64))(d)\n",
        "\n",
        "  r = get_residual_block(64, d)\n",
        "\n",
        "  r = get_residual_block(64, r)\n",
        "  r = get_residual_block(64, r)\n",
        "  r = get_residual_block(64, r)\n",
        "  r = get_residual_block(64, r)\n",
        "  r = get_residual_block(64, r)\n",
        "  r = get_residual_block(64, r)\n",
        "  r = get_residual_block(64, r)\n",
        "  r = get_residual_block(64, r)\n",
        "  r = get_residual_block(64, r)\n",
        "  r = get_residual_block(64, r)\n",
        "  r = get_residual_block(64, r)\n",
        "  r = get_residual_block(64, r)\n",
        "\n",
        "  i = Add()([r, d])\n",
        "\n",
        "  u = get_upsamling_block(256, i)\n",
        "  u = get_upsamling_block(256, u)\n",
        "\n",
        "  o = Conv2DTranspose(3, 5, padding = 'same', activation='tanh')(u)\n",
        "\n",
        "\n",
        "  model = Model(inputs=in_l, outputs=o, name='Generator')\n",
        "\n",
        "  return model"
      ],
      "execution_count": 33,
      "outputs": []
    },
    {
      "cell_type": "code",
      "metadata": {
        "id": "tL82MWp4Q2yy",
        "colab_type": "code",
        "colab": {}
      },
      "source": [
        "def get_residual_block_v2(units, prev):\n",
        "  c = Conv2D(units, 3, padding='same')(prev)\n",
        "  l = LeakyReLU()(c)\n",
        "  c = Conv2D(units, 3, padding='same')(l)\n",
        "  a = Add()([c, prev])\n",
        "  l = LeakyReLU()(a)\n",
        "  return l"
      ],
      "execution_count": 34,
      "outputs": []
    },
    {
      "cell_type": "code",
      "metadata": {
        "id": "D67_Qv3I7YzH",
        "colab_type": "code",
        "colab": {}
      },
      "source": [
        "def build_discriminator():\n",
        "  in_l = Input(shape=(64, 64, 3))\n",
        "\n",
        "  c_1 = Conv2D(32, 4, strides=2, padding='same')(in_l)\n",
        "  l = LeakyReLU()(c_1)\n",
        "\n",
        "  r = get_residual_block_v2(32, l)\n",
        "  r = get_residual_block_v2(32, r)\n",
        "\n",
        "  r  = Conv2D(64, 4, strides=2, padding='same')(r)\n",
        "  r = LeakyReLU()(r)\n",
        "\n",
        "  r = get_residual_block_v2(64, r)\n",
        "  r = get_residual_block_v2(64, r)\n",
        "\n",
        "  r  = Conv2D(128, 4, strides=2, padding='same')(r)\n",
        "  r = LeakyReLU()(r)\n",
        "\n",
        "  ##########\n",
        "\n",
        "  r = get_residual_block_v2(128, r)\n",
        "  r = get_residual_block_v2(128, r)\n",
        "\n",
        "  r  = Conv2D(256, 3, strides=2, padding='same')(r)\n",
        "  r = LeakyReLU()(r)\n",
        "\n",
        "\n",
        "  r = get_residual_block_v2(256, r)\n",
        "  r = get_residual_block_v2(256, r)\n",
        "\n",
        "  r  = Conv2D(512, 3, strides=2, padding='same')(r)\n",
        "  r = LeakyReLU()(r)\n",
        "\n",
        "  r = Flatten()(r)\n",
        "\n",
        "  d = Dense(1, activation='sigmoid')(r)\n",
        "\n",
        "  m = Model(inputs=in_l, outputs=d)\n",
        "\n",
        "  opt = Adam(lr=0.0001, beta_1=0.5)\n",
        "  m.compile(loss='binary_crossentropy', optimizer=opt)\n",
        "\n",
        "\n",
        "  return m"
      ],
      "execution_count": 35,
      "outputs": []
    },
    {
      "cell_type": "code",
      "metadata": {
        "id": "-YWeOoog9YV7",
        "colab_type": "code",
        "colab": {}
      },
      "source": [
        "def build_gan(gen, disc):\n",
        "  disc.trainable = False\n",
        "  m = Sequential()\n",
        "  m.add(gen)\n",
        "  m.add(disc)\n",
        "\n",
        "  opt = Adam(lr=0.0001, beta_1=0.5)\n",
        "  m.compile(loss='binary_crossentropy', optimizer=opt)\n",
        "  return m"
      ],
      "execution_count": 36,
      "outputs": []
    },
    {
      "cell_type": "code",
      "metadata": {
        "id": "h5iC3zjS9xgC",
        "colab_type": "code",
        "colab": {}
      },
      "source": [
        "gen = build_generator()\n",
        "disc = build_discriminator()\n",
        "gen.summary()\n",
        "print(\"##########################################################\")\n",
        "disc.summary()\n",
        "gan = build_gan(gen, disc)"
      ],
      "execution_count": null,
      "outputs": []
    },
    {
      "cell_type": "code",
      "metadata": {
        "id": "X7kFLFDzREMG",
        "colab_type": "code",
        "colab": {}
      },
      "source": [
        "gan.summary()"
      ],
      "execution_count": null,
      "outputs": []
    },
    {
      "cell_type": "code",
      "metadata": {
        "id": "eYeFEGH--R8G",
        "colab_type": "code",
        "colab": {}
      },
      "source": [
        "def train_step(batch_size=16):\n",
        "  real = get_random_samples(batch_size)\n",
        "\n",
        "  noise = np.random.normal(size=(batch_size, 100))\n",
        "  fake = gen(noise)\n",
        "\n",
        "  zeros = np.zeros(batch_size)\n",
        "  ones = np.ones(batch_size)\n",
        "\n",
        "\n",
        "  disc_loss_1 = disc.train_on_batch(fake, zeros)\n",
        "  disc_loss = disc.train_on_batch(real, ones)\n",
        "\n",
        "  gen_loss = gan.train_on_batch(noise, ones)\n",
        "  \n",
        "\n",
        "  return (disc_loss, disc_loss_1, gen_loss)"
      ],
      "execution_count": 38,
      "outputs": []
    },
    {
      "cell_type": "code",
      "metadata": {
        "id": "sTxm5BfgXumR",
        "colab_type": "code",
        "colab": {}
      },
      "source": [
        "def save_results(model):\n",
        "  noise = np.random.normal(size=(25, 100))\n",
        "  ims = model.predict(noise)\n",
        "  ims = ims * 127.5 + 127.5\n",
        "  ret = np.zeros(shape=(320, 320, 3))\n",
        "  k = 0\n",
        "  for i in range(5):\n",
        "    for j in range(5):\n",
        "      ret[i*64:i*64+64, j*64:j*64+64] = ims[k]\n",
        "      k += 1\n",
        "  return ret"
      ],
      "execution_count": 39,
      "outputs": []
    },
    {
      "cell_type": "code",
      "metadata": {
        "id": "9yV8aIt0BrUQ",
        "colab_type": "code",
        "colab": {}
      },
      "source": [
        "def train(epochs=1, batch_size=16):\n",
        "  for i in range(epochs):\n",
        "    start = time.time()\n",
        "    d_l, d_l_1, g_l = train_step(batch_size)\n",
        "    end = time.time()\n",
        "    if i % 100 == 0:\n",
        "      gen.save('drive/My Drive/anime_generator_v8.h5')\n",
        "      disc.trainable = True\n",
        "      disc.save('drive/My Drive/anime_discriminator_v8.h5')\n",
        "      disc.trainable = False\n",
        "    if i % 50 == 0:\n",
        "      print(f'Batch {i + 1} / {epochs}, disc_loss: {d_l}, disc_loss1: {d_l_1}, gen_loss: {g_l}, time: {end-start}')\n",
        "      n = np.random.normal(size=(1, 100))\n",
        "      f = gen.predict(n)[0]\n",
        "      f = cv2.resize(f, (128, 128), interpolation=cv2.INTER_NEAREST)\n",
        "      cv2.imwrite('batch.png', save_results(gen))\n"
      ],
      "execution_count": 40,
      "outputs": []
    },
    {
      "cell_type": "code",
      "metadata": {
        "id": "BwoJ68GAgErn",
        "colab_type": "code",
        "colab": {
          "base_uri": "https://localhost:8080/",
          "height": 34
        },
        "outputId": "a2ddc6e1-01e0-4e34-f83d-a35b9b80e846"
      },
      "source": [
        "disc.optimizer.learning_rate.assign(3e-5)\n",
        "gan.optimizer.learning_rate.assign(3e-5)"
      ],
      "execution_count": 43,
      "outputs": [
        {
          "output_type": "execute_result",
          "data": {
            "text/plain": [
              "<tf.Variable 'UnreadVariable' shape=() dtype=float32, numpy=3e-05>"
            ]
          },
          "metadata": {
            "tags": []
          },
          "execution_count": 43
        }
      ]
    },
    {
      "cell_type": "code",
      "metadata": {
        "id": "JI8odDHvCpp6",
        "colab_type": "code",
        "colab": {
          "base_uri": "https://localhost:8080/",
          "height": 836
        },
        "outputId": "55da3ed2-96a5-4f32-b5f4-2405b8e1cc75"
      },
      "source": [
        "train(10000, batch_size=128)"
      ],
      "execution_count": null,
      "outputs": [
        {
          "output_type": "stream",
          "text": [
            "Batch 1 / 10000, disc_loss: 0.10202360153198242, disc_loss1: 0.19790337979793549, gen_loss: 4.629951477050781, time: 0.3487098217010498\n",
            "Batch 51 / 10000, disc_loss: 0.07466563582420349, disc_loss1: 0.08893318474292755, gen_loss: 5.292317867279053, time: 0.3393831253051758\n",
            "Batch 101 / 10000, disc_loss: 0.06153908744454384, disc_loss1: 0.09266752004623413, gen_loss: 6.302574634552002, time: 0.3360450267791748\n",
            "Batch 151 / 10000, disc_loss: 0.0964394360780716, disc_loss1: 0.08325134962797165, gen_loss: 6.167316436767578, time: 0.3325178623199463\n",
            "Batch 201 / 10000, disc_loss: 0.08657480031251907, disc_loss1: 0.1297030746936798, gen_loss: 6.4217424392700195, time: 0.33312153816223145\n",
            "Batch 251 / 10000, disc_loss: 0.10342197120189667, disc_loss1: 0.0711619108915329, gen_loss: 6.649590969085693, time: 0.33429646492004395\n",
            "Batch 301 / 10000, disc_loss: 0.07457093894481659, disc_loss1: 0.11878734081983566, gen_loss: 6.667832851409912, time: 0.3346383571624756\n",
            "Batch 351 / 10000, disc_loss: 0.13814839720726013, disc_loss1: 0.05001375451683998, gen_loss: 6.667019844055176, time: 0.3318359851837158\n",
            "Batch 401 / 10000, disc_loss: 0.06355272978544235, disc_loss1: 0.07918896526098251, gen_loss: 6.8355278968811035, time: 0.33246803283691406\n",
            "Batch 451 / 10000, disc_loss: 0.07956457138061523, disc_loss1: 0.12479929625988007, gen_loss: 7.463383674621582, time: 0.32823634147644043\n",
            "Batch 501 / 10000, disc_loss: 0.09173505008220673, disc_loss1: 0.082161545753479, gen_loss: 7.140514850616455, time: 0.328916072845459\n",
            "Batch 551 / 10000, disc_loss: 0.09002022445201874, disc_loss1: 0.1724703460931778, gen_loss: 7.306224822998047, time: 0.3285331726074219\n",
            "Batch 601 / 10000, disc_loss: 0.12416721135377884, disc_loss1: 0.07158835977315903, gen_loss: 7.077066421508789, time: 0.32974696159362793\n",
            "Batch 651 / 10000, disc_loss: 0.0984116643667221, disc_loss1: 0.08787975460290909, gen_loss: 6.781434059143066, time: 0.32913756370544434\n",
            "Batch 701 / 10000, disc_loss: 0.04055993631482124, disc_loss1: 0.0694127231836319, gen_loss: 6.884443283081055, time: 0.32906222343444824\n",
            "Batch 751 / 10000, disc_loss: 0.08612998574972153, disc_loss1: 0.04858838766813278, gen_loss: 7.524393081665039, time: 0.32819271087646484\n",
            "Batch 801 / 10000, disc_loss: 0.03258521482348442, disc_loss1: 0.05702038109302521, gen_loss: 8.067745208740234, time: 0.33051323890686035\n",
            "Batch 851 / 10000, disc_loss: 0.0219775028526783, disc_loss1: 0.07974880933761597, gen_loss: 7.444231986999512, time: 0.3326430320739746\n",
            "Batch 901 / 10000, disc_loss: 0.10563619434833527, disc_loss1: 0.11574123799800873, gen_loss: 7.716800212860107, time: 0.3296511173248291\n",
            "Batch 951 / 10000, disc_loss: 0.10257905721664429, disc_loss1: 0.07308858633041382, gen_loss: 8.133307456970215, time: 0.32886266708374023\n",
            "Batch 1001 / 10000, disc_loss: 0.0471939742565155, disc_loss1: 0.0742955356836319, gen_loss: 7.66274356842041, time: 0.3321108818054199\n",
            "Batch 1051 / 10000, disc_loss: 0.059081774204969406, disc_loss1: 0.10181708633899689, gen_loss: 7.606614112854004, time: 0.3281257152557373\n",
            "Batch 1101 / 10000, disc_loss: 0.07702147960662842, disc_loss1: 0.07670128345489502, gen_loss: 8.263431549072266, time: 0.33000946044921875\n",
            "Batch 1151 / 10000, disc_loss: 0.08472426235675812, disc_loss1: 0.040373582392930984, gen_loss: 7.681340217590332, time: 0.32816362380981445\n",
            "Batch 1201 / 10000, disc_loss: 0.056598249822854996, disc_loss1: 0.02267708256840706, gen_loss: 8.348626136779785, time: 0.32904791831970215\n",
            "Batch 1251 / 10000, disc_loss: 0.07983949780464172, disc_loss1: 0.08725243806838989, gen_loss: 8.579170227050781, time: 0.32947659492492676\n",
            "Batch 1301 / 10000, disc_loss: 0.11381413787603378, disc_loss1: 0.0900123119354248, gen_loss: 7.850931167602539, time: 0.32882022857666016\n",
            "Batch 1351 / 10000, disc_loss: 0.07492616027593613, disc_loss1: 0.0402674600481987, gen_loss: 7.856273651123047, time: 0.3290560245513916\n",
            "Batch 1401 / 10000, disc_loss: 0.017908954992890358, disc_loss1: 0.09212613850831985, gen_loss: 8.533361434936523, time: 0.32978153228759766\n",
            "Batch 1451 / 10000, disc_loss: 0.1326848566532135, disc_loss1: 0.1052907407283783, gen_loss: 7.861319541931152, time: 0.3297572135925293\n",
            "Batch 1501 / 10000, disc_loss: 0.07926660776138306, disc_loss1: 0.10301203280687332, gen_loss: 8.491986274719238, time: 0.3292117118835449\n",
            "Batch 1551 / 10000, disc_loss: 0.05926075950264931, disc_loss1: 0.159958153963089, gen_loss: 8.025386810302734, time: 0.33003711700439453\n",
            "Batch 1601 / 10000, disc_loss: 0.0654139295220375, disc_loss1: 0.06897293776273727, gen_loss: 8.503504753112793, time: 0.3288583755493164\n",
            "Batch 1651 / 10000, disc_loss: 0.06891332566738129, disc_loss1: 0.0695103332400322, gen_loss: 7.978692054748535, time: 0.3303103446960449\n",
            "Batch 1701 / 10000, disc_loss: 0.10752995312213898, disc_loss1: 0.03761406987905502, gen_loss: 8.095067977905273, time: 0.3331294059753418\n",
            "Batch 1751 / 10000, disc_loss: 0.04373855143785477, disc_loss1: 0.01626688241958618, gen_loss: 8.561015129089355, time: 0.32904744148254395\n",
            "Batch 1801 / 10000, disc_loss: 0.023593436926603317, disc_loss1: 0.05229686200618744, gen_loss: 8.74587345123291, time: 0.329287052154541\n",
            "Batch 1901 / 10000, disc_loss: 0.04853138327598572, disc_loss1: 0.08862639218568802, gen_loss: 8.429705619812012, time: 0.32776737213134766\n",
            "Batch 1951 / 10000, disc_loss: 0.06806500256061554, disc_loss1: 0.10216978192329407, gen_loss: 8.595169067382812, time: 0.3281385898590088\n",
            "Batch 2001 / 10000, disc_loss: 0.10106901079416275, disc_loss1: 0.06668299436569214, gen_loss: 7.977313041687012, time: 0.3299069404602051\n",
            "Batch 2051 / 10000, disc_loss: 0.15242692828178406, disc_loss1: 0.08784841001033783, gen_loss: 8.598014831542969, time: 0.3272073268890381\n",
            "Batch 2101 / 10000, disc_loss: 0.056154388934373856, disc_loss1: 0.04182031378149986, gen_loss: 8.578543663024902, time: 0.3294076919555664\n",
            "Batch 2151 / 10000, disc_loss: 0.03513099253177643, disc_loss1: 0.07918136566877365, gen_loss: 8.633237838745117, time: 0.329287052154541\n",
            "Batch 2201 / 10000, disc_loss: 0.08485572785139084, disc_loss1: 0.08820630609989166, gen_loss: 8.654975891113281, time: 0.3304018974304199\n",
            "Batch 2251 / 10000, disc_loss: 0.03828326612710953, disc_loss1: 0.03589534014463425, gen_loss: 9.227481842041016, time: 0.32894229888916016\n",
            "Batch 2301 / 10000, disc_loss: 0.04004049301147461, disc_loss1: 0.1446492075920105, gen_loss: 9.617032051086426, time: 0.32958149909973145\n",
            "Batch 2351 / 10000, disc_loss: 0.12067803740501404, disc_loss1: 0.07627956569194794, gen_loss: 9.113273620605469, time: 0.3289217948913574\n"
          ],
          "name": "stdout"
        }
      ]
    },
    {
      "cell_type": "code",
      "metadata": {
        "id": "zdR2eacsD7Do",
        "colab_type": "code",
        "colab": {
          "base_uri": "https://localhost:8080/",
          "height": 145
        },
        "outputId": "ecf166ca-8d4a-4074-d108-133eb7a56c97"
      },
      "source": [
        "n = np.random.normal(size=(1, 100))\n",
        "f = gen.predict(n)[0]\n",
        "f = cv2.resize(f, (128, 128), interpolation=cv2.INTER_NEAREST)\n",
        "cv2_imshow(f * 127.5 + 127.5)"
      ],
      "execution_count": null,
      "outputs": [
        {
          "output_type": "display_data",
          "data": {
            "image/png": "[encoded data removed]",
            "text/plain": [
              "<PIL.Image.Image image mode=RGB size=128x128 at 0x7FB2CF45BE48>"
            ]
          },
          "metadata": {
            "tags": []
          }
        }
      ]
    },
    {
      "cell_type": "code",
      "metadata": {
        "id": "gGeas_j-Q79n",
        "colab_type": "code",
        "colab": {
          "base_uri": "https://localhost:8080/",
          "height": 145
        },
        "outputId": "82f94ced-8225-4772-c1c9-c8c73c2bb908"
      },
      "source": [
        "f = gen.predict(n)[0]\n",
        "f = cv2.resize(f, (128, 128), interpolation=cv2.INTER_CUBIC)\n",
        "cv2_imshow(f * 127.5 + 127.5)"
      ],
      "execution_count": null,
      "outputs": [
        {
          "output_type": "display_data",
          "data": {
            "image/png": "[encoded data removed]",
            "text/plain": [
              "<PIL.Image.Image image mode=RGB size=128x128 at 0x7F6304065198>"
            ]
          },
          "metadata": {
            "tags": []
          }
        }
      ]
    },
    {
      "cell_type": "code",
      "metadata": {
        "id": "f8tqeskXORKV",
        "colab_type": "code",
        "colab": {
          "base_uri": "https://localhost:8080/",
          "height": 81
        },
        "outputId": "ab3323bf-181c-4b07-9278-8bd60de4ba8e"
      },
      "source": [
        "f = gen.predict(n)[0]\n",
        "f = cv2.resize(f, (64, 64), interpolation=cv2.INTER_CUBIC)\n",
        "cv2_imshow(f * 127.5 + 127.5)"
      ],
      "execution_count": null,
      "outputs": [
        {
          "output_type": "display_data",
          "data": {
            "image/png": "[encoded data removed]",
            "text/plain": [
              "<PIL.Image.Image image mode=RGB size=64x64 at 0x7F74910E7FD0>"
            ]
          },
          "metadata": {
            "tags": []
          }
        }
      ]
    },
    {
      "cell_type": "code",
      "metadata": {
        "id": "vzV24IT2pXEl",
        "colab_type": "code",
        "colab": {
          "base_uri": "https://localhost:8080/",
          "height": 49
        },
        "outputId": "e1fa189a-0ba0-48b7-c474-e15fce85d2ea"
      },
      "source": [
        "cv2_imshow(f * 127.5 + 127.5)"
      ],
      "execution_count": null,
      "outputs": [
        {
          "output_type": "display_data",
          "data": {
            "image/png": "[encoded data removed]",
            "text/plain": [
              "<PIL.Image.Image image mode=RGB size=32x32 at 0x7F4DBB9BFBA8>"
            ]
          },
          "metadata": {
            "tags": []
          }
        }
      ]
    },
    {
      "cell_type": "code",
      "metadata": {
        "id": "MacVtQVTp5vd",
        "colab_type": "code",
        "colab": {}
      },
      "source": [
        "gen.save('anime_gen_Noice5.h5')\n",
        "disc.save('anime_disc_Noice5.h5')"
      ],
      "execution_count": null,
      "outputs": []
    },
    {
      "cell_type": "code",
      "metadata": {
        "id": "ekV5XP43DcbT",
        "colab_type": "code",
        "colab": {
          "base_uri": "https://localhost:8080/",
          "height": 51
        },
        "outputId": "f7d97fcb-efe9-49b9-9af1-733ec74c55f3"
      },
      "source": [
        "gen = tf.keras.models.load_model('anime_gen_Noice5.h5')\n",
        "disc = tf.keras.models.load_model('anime_disc_Noice5.h5')"
      ],
      "execution_count": null,
      "outputs": [
        {
          "output_type": "stream",
          "text": [
            "WARNING:tensorflow:No training configuration found in the save file, so the model was *not* compiled. Compile it manually.\n",
            "WARNING:tensorflow:Error in loading the saved optimizer state. As a result, your model is starting with a freshly initialized optimizer.\n"
          ],
          "name": "stdout"
        }
      ]
    },
    {
      "cell_type": "code",
      "metadata": {
        "id": "PqzsXgNasamB",
        "colab_type": "code",
        "colab": {}
      },
      "source": [
        "fr = np.random.normal(size=(10,))\n",
        "to = np.random.normal(size=(10,))\n",
        "\n",
        "def arange(s, e, steps):\n",
        "  ret = np.zeros((steps,) + s.shape)\n",
        "  \n",
        "  delta = (e - s) / steps\n",
        "  for i in range(steps):\n",
        "    ret[i] = s + delta * i\n",
        "\n",
        "  return ret\n",
        "\n",
        "a = arange(fr, to, 100)"
      ],
      "execution_count": null,
      "outputs": []
    },
    {
      "cell_type": "code",
      "metadata": {
        "id": "o39O6mbrE7fg",
        "colab_type": "code",
        "colab": {}
      },
      "source": [
        "fake_ims = gen.predict(np.random.normal(size=(10000, 100)))"
      ],
      "execution_count": null,
      "outputs": []
    },
    {
      "cell_type": "code",
      "metadata": {
        "id": "6OcVw9GiFERn",
        "colab_type": "code",
        "colab": {}
      },
      "source": [
        "predictions = disc.predict(fake_ims)"
      ],
      "execution_count": null,
      "outputs": []
    },
    {
      "cell_type": "code",
      "metadata": {
        "id": "GxcgipEQFLG4",
        "colab_type": "code",
        "colab": {
          "base_uri": "https://localhost:8080/",
          "height": 51
        },
        "outputId": "62585f38-7e75-472f-cbf7-c40e061924c1"
      },
      "source": [
        "i = np.argmin(predictions)\n",
        "print(i)\n",
        "print(predictions[i])"
      ],
      "execution_count": null,
      "outputs": [
        {
          "output_type": "stream",
          "text": [
            "327\n",
            "[8.3469114e-14]\n"
          ],
          "name": "stdout"
        }
      ]
    },
    {
      "cell_type": "code",
      "metadata": {
        "id": "AI6mBWmf9VvB",
        "colab_type": "code",
        "colab": {}
      },
      "source": [
        "acc = tf.keras.metrics.binary_accuracy(tf.zeros_like(predictions), predictions).numpy()"
      ],
      "execution_count": null,
      "outputs": []
    },
    {
      "cell_type": "code",
      "metadata": {
        "id": "9itB3nFJ9q0J",
        "colab_type": "code",
        "colab": {
          "base_uri": "https://localhost:8080/",
          "height": 163
        },
        "outputId": "fa123555-bff3-44cc-e029-82e5e04bab58"
      },
      "source": [
        "np.count_nonzero(acc)"
      ],
      "execution_count": null,
      "outputs": [
        {
          "output_type": "error",
          "ename": "NameError",
          "evalue": "ignored",
          "traceback": [
            "\u001b[0;31m---------------------------------------------------------------------------\u001b[0m",
            "\u001b[0;31mNameError\u001b[0m                                 Traceback (most recent call last)",
            "\u001b[0;32m<ipython-input-83-fad08e0186dc>\u001b[0m in \u001b[0;36m<module>\u001b[0;34m()\u001b[0m\n\u001b[0;32m----> 1\u001b[0;31m \u001b[0mnp\u001b[0m\u001b[0;34m.\u001b[0m\u001b[0mcount_nonzero\u001b[0m\u001b[0;34m(\u001b[0m\u001b[0macc\u001b[0m\u001b[0;34m)\u001b[0m\u001b[0;34m\u001b[0m\u001b[0;34m\u001b[0m\u001b[0m\n\u001b[0m",
            "\u001b[0;31mNameError\u001b[0m: name 'acc' is not defined"
          ]
        }
      ]
    },
    {
      "cell_type": "code",
      "metadata": {
        "id": "Nw7e8ea7Fini",
        "colab_type": "code",
        "colab": {
          "base_uri": "https://localhost:8080/",
          "height": 81
        },
        "outputId": "5ea82227-c9d3-4896-a4b7-004959a7a549"
      },
      "source": [
        "cv2_imshow(fake_ims[7745] * 127.5 + 127.5)"
      ],
      "execution_count": null,
      "outputs": [
        {
          "output_type": "display_data",
          "data": {
            "image/png": "[encoded data removed]",
            "text/plain": [
              "<PIL.Image.Image image mode=RGB size=64x64 at 0x7FD9B65DC2B0>"
            ]
          },
          "metadata": {
            "tags": []
          }
        }
      ]
    },
    {
      "cell_type": "code",
      "metadata": {
        "id": "yYhfoGSSKv9h",
        "colab_type": "code",
        "colab": {
          "base_uri": "https://localhost:8080/",
          "height": 136
        },
        "outputId": "b8ec23cc-0d13-4d6c-87ee-43a4012d0df4"
      },
      "source": [
        "predictions"
      ],
      "execution_count": null,
      "outputs": [
        {
          "output_type": "execute_result",
          "data": {
            "text/plain": [
              "array([[0.0191663 ],\n",
              "       [0.04411966],\n",
              "       [0.0506802 ],\n",
              "       ...,\n",
              "       [0.01985994],\n",
              "       [0.07549419],\n",
              "       [0.00522235]], dtype=float32)"
            ]
          },
          "metadata": {
            "tags": []
          },
          "execution_count": 56
        }
      ]
    },
    {
      "cell_type": "code",
      "metadata": {
        "id": "tJ9PziCvx1yA",
        "colab_type": "code",
        "colab": {
          "base_uri": "https://localhost:8080/",
          "height": 51
        },
        "outputId": "74ace03b-15a4-4399-be00-a4bbfa4edb1c"
      },
      "source": [
        "gen = tf.keras.models.load_model('drive/My Drive/anime_generator_v5.h5')\n",
        "disc = tf.keras.models.load_model('drive/My Drive/anime_discriminator_v5.h5')"
      ],
      "execution_count": null,
      "outputs": [
        {
          "output_type": "stream",
          "text": [
            "WARNING:tensorflow:No training configuration found in the save file, so the model was *not* compiled. Compile it manually.\n",
            "WARNING:tensorflow:Error in loading the saved optimizer state. As a result, your model is starting with a freshly initialized optimizer.\n"
          ],
          "name": "stdout"
        }
      ]
    },
    {
      "cell_type": "code",
      "metadata": {
        "id": "NhxngH3KHQ4r",
        "colab_type": "code",
        "colab": {
          "base_uri": "https://localhost:8080/",
          "height": 357
        },
        "outputId": "c6aad4c2-4a78-4a58-b21e-9c32b68d0e68"
      },
      "source": [
        "n"
      ],
      "execution_count": null,
      "outputs": [
        {
          "output_type": "execute_result",
          "data": {
            "text/plain": [
              "array([[-1.51493888,  1.18935531, -0.49500658,  1.68341662,  1.45486417,\n",
              "        -1.32634059, -1.63928894,  0.33562166,  0.65451385,  0.23797742,\n",
              "        -2.9719301 , -0.44887682,  1.95955084, -0.204819  ,  0.98065604,\n",
              "        -0.291756  , -0.13614286, -0.95799494,  1.26978087,  1.29383237,\n",
              "         0.54153035,  0.82124221,  0.39798113, -0.1293979 , -0.26349407,\n",
              "         0.30377509,  0.04547751,  0.84143531,  0.47789479,  1.87140213,\n",
              "         0.15196161,  0.16268972, -0.08254734, -0.09750286, -1.04536405,\n",
              "         1.5264992 ,  0.22722155, -0.56609969,  1.30868814, -1.21827103,\n",
              "        -0.25161436, -0.46428727,  0.01688903, -1.53778785,  2.0059006 ,\n",
              "        -0.69250598,  0.34137275,  0.50034021, -2.30435404, -0.18979345,\n",
              "        -1.66339715, -0.53194536,  0.45414245, -0.61115538, -0.5396266 ,\n",
              "         0.40115236,  0.13520949,  0.04499437,  1.84446034, -0.86263353,\n",
              "        -0.137942  ,  0.0787324 , -0.71778495, -1.88037268,  0.61823749,\n",
              "        -0.34459737, -0.47141729,  2.17171699,  0.47089072,  0.07744357,\n",
              "        -0.73177636,  1.22752773,  0.32321299, -0.09150212,  0.73639361,\n",
              "        -0.72041894, -1.16833924,  1.96843128, -0.98213137, -0.31685786,\n",
              "         2.10192257, -0.04877165,  1.31273993, -1.44224229,  0.26240959,\n",
              "        -0.7253742 , -1.41043086,  0.27957407,  0.23525442, -1.25271872,\n",
              "        -1.01779795,  0.60825812,  0.39443882,  0.50538902, -0.32687286,\n",
              "        -0.84355542, -0.06917299, -0.16895218, -0.67708437, -1.60454113]])"
            ]
          },
          "metadata": {
            "tags": []
          },
          "execution_count": 63
        }
      ]
    },
    {
      "cell_type": "code",
      "metadata": {
        "id": "GuyyZHnNz6jm",
        "colab_type": "code",
        "colab": {}
      },
      "source": [
        "gen.save('drive/My Drive/anime_generator_vBEST.h5')\n",
        "disc.save('drive/My Drive/anime_discriminator_vBEST.h5')"
      ],
      "execution_count": null,
      "outputs": []
    }
  ]
}
